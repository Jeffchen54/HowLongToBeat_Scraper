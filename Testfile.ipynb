{
 "cells": [
  {
   "cell_type": "markdown",
   "id": "808b7c83",
   "metadata": {},
   "source": [
    "## Testfile\n",
    "Used to test get and parse operations on HowToBeat website.\n",
    "\n",
    "**Author: Jeff Chen**\n",
    "\n",
    "**Date: 11/2/2022**"
   ]
  },
  {
   "cell_type": "markdown",
   "id": "4834fd99",
   "metadata": {},
   "source": [
    "## Requests Data Check File\n",
    "Run this cell first!"
   ]
  },
  {
   "cell_type": "code",
   "execution_count": 9,
   "id": "cba41f18",
   "metadata": {},
   "outputs": [],
   "source": [
    "# Do not edit!\n",
    "import requests\n",
    "from bs4 import BeautifulSoup\n",
    "\n",
    "# Used to spoof user agent\n",
    "HEADERS = {'User-agent':'Mozilla/5.0 (Windows NT 10.0; Win64; x64) AppleWebKit/537.36 (KHTML, like Gecko) Chrome/104.0.0.0 Safari/537.36'}\n",
    "\n",
    "# Get request used for parsing\n",
    "req = requests.get(\"https://howlongtobeat.com/game/369\", headers=HEADERS)"
   ]
  },
  {
   "cell_type": "markdown",
   "id": "18c7ab45",
   "metadata": {},
   "source": [
    "## Completion Time stats\n",
    "List 4 numbers representing time. If no time exists, returns -- in place of numbers"
   ]
  },
  {
   "cell_type": "code",
   "execution_count": 10,
   "id": "13cb9ce5",
   "metadata": {},
   "outputs": [
    {
     "name": "stdout",
     "output_type": "stream",
     "text": [
      "[<li class=\"GameStats_short__mnFjd time_50\"><h4>Main Story</h4><h5>1 Hours</h5></li>, <li class=\"GameStats_short__mnFjd time_00\"><h4>Main + Sides</h4><h5>--</h5></li>, <li class=\"GameStats_short__mnFjd time_40\"><h4>Completionist</h4><h5>2 Hours</h5></li>, <li class=\"GameStats_short__mnFjd time_50\"><h4>All Styles</h4><h5>1½ Hours</h5></li>]\n",
      "1\n",
      "--\n",
      "2\n",
      "1.5\n"
     ]
    },
    {
     "data": {
      "text/plain": [
       "<li class=\"GameStats_short__mnFjd time_50\"><h4>Main Story</h4><h5>1 Hours</h5></li>"
      ]
     },
     "execution_count": 10,
     "metadata": {},
     "output_type": "execute_result"
    }
   ],
   "source": [
    "# Generate soup\n",
    "soup = BeautifulSoup(req.text, 'html.parser')\n",
    "# Parse soup for correct elements\n",
    "parsed = soup.find_all(\"li\", class_= lambda v: v and \"GameStats_short__mnFjd time_\" in v)\n",
    "print(parsed)\n",
    "for line in parsed:\n",
    "    print(line.find(\"h5\").text.split()[0].replace('½', '.5'))\n",
    "parsed[0]"
   ]
  },
  {
   "cell_type": "markdown",
   "id": "02999025",
   "metadata": {},
   "source": [
    "## Title\n",
    "Returns game title"
   ]
  },
  {
   "cell_type": "code",
   "execution_count": 11,
   "id": "f7652565",
   "metadata": {},
   "outputs": [
    {
     "data": {
      "text/plain": [
       "'Alien Syndrome'"
      ]
     },
     "execution_count": 11,
     "metadata": {},
     "output_type": "execute_result"
    }
   ],
   "source": [
    "soup.find(\"title\").text[12:].partition('?')[0]"
   ]
  },
  {
   "cell_type": "markdown",
   "id": "2b3aa31e",
   "metadata": {},
   "source": [
    "## Platform, Genre, Developer, Publisher\n",
    "Return platforms(s), genre(s), developer, and publisher"
   ]
  },
  {
   "cell_type": "code",
   "execution_count": 12,
   "id": "1027748b",
   "metadata": {},
   "outputs": [
    {
     "name": "stdout",
     "output_type": "stream",
     "text": [
      "Arcade, NES, Sega Master System\n",
      "Sega\n",
      "Sega\n"
     ]
    }
   ],
   "source": [
    "parser = soup.find_all(\"div\", {\"class\":\"GameSummary_profile_info__e935c GameSummary_medium__5cP8Y\"})\n",
    "parser\n",
    "\n",
    "for line in parser:\n",
    "    print(line.text.partition(\" \")[2])"
   ]
  },
  {
   "cell_type": "markdown",
   "id": "c0af59aa",
   "metadata": {},
   "source": [
    "## Retirement\n",
    "Return retirement percentage"
   ]
  },
  {
   "cell_type": "code",
   "execution_count": 13,
   "id": "ba194b75",
   "metadata": {},
   "outputs": [
    {
     "name": "stdout",
     "output_type": "stream",
     "text": [
      "5.4\n"
     ]
    }
   ],
   "source": [
    "import re\n",
    "parser = soup.find(\"h5\", {\"style\":\"margin-top:-75px;text-align:center\"})\n",
    "if not parser:\n",
    "    print(\"No retirement percentage found\")\n",
    "else:\n",
    "    print(re.sub(\"[^0-9|.]\", \"\",parser.text))"
   ]
  },
  {
   "cell_type": "markdown",
   "id": "b0fa6092",
   "metadata": {},
   "source": [
    "## Rating\n",
    "Return rating percentage"
   ]
  },
  {
   "cell_type": "code",
   "execution_count": 14,
   "id": "30107daf",
   "metadata": {},
   "outputs": [
    {
     "name": "stdout",
     "output_type": "stream",
     "text": [
      "65\n"
     ]
    }
   ],
   "source": [
    "parser = soup.find(\"h5\", {\"style\":\"margin-top:-67px;text-align:center\"})\n",
    "if not parser:\n",
    "    print(\"No rating found\")\n",
    "else:\n",
    "    print(re.sub(\"[^0-9|.]\", \"\",parser.text))"
   ]
  },
  {
   "cell_type": "markdown",
   "id": "ebf2f9c9",
   "metadata": {},
   "source": [
    "## Release Dates\n",
    "Return release dates for NA, EU, and JP if they exists"
   ]
  },
  {
   "cell_type": "code",
   "execution_count": 15,
   "id": "86397442",
   "metadata": {},
   "outputs": [
    {
     "name": "stdout",
     "output_type": "stream",
     "text": [
      "NA: 1987\n",
      "EU: 1987\n",
      "JP: 1987\n"
     ]
    }
   ],
   "source": [
    "parser = soup.find_all(\"div\", {\"class\":\"GameSummary_profile_info__e935c\"})\n",
    "parser\n",
    "\n",
    "for line in parser:\n",
    "    key = line.text.partition(':')\n",
    "    \n",
    "    if(key[0] == \"NA\" or key[0] == \"JP\" or key[0] == \"EU\"):\n",
    "        print(line.text)\n",
    "    \n",
    "    "
   ]
  },
  {
   "cell_type": "markdown",
   "id": "4c38a433",
   "metadata": {},
   "source": [
    "## Full Text\n",
    "Full returned text from HTTP get request"
   ]
  },
  {
   "cell_type": "code",
   "execution_count": 8,
   "id": "ae6f71a2",
   "metadata": {
    "scrolled": false
   },
   "outputs": [
    {
     "data": {
      "text/plain": [
       "'<!DOCTYPE html><html lang=\"en\"><head><meta charSet=\"utf-8\"/><meta name=\"viewport\" content=\"width=device-width\"/><title>How long is Elden Ring? | HowLongToBeat</title><meta name=\"theme-color\" content=\"#000000\"/><meta name=\"description\" content=\"How long is Elden Ring? HowLongToBeat has the answer. Create a backlog, submit your game times and compete with your friends!\"/><meta name=\"robots\" content=\"noodp, noydir, max-image-preview:large\"/><meta name=\"thumbnail\" content=\"https://howlongtobeat.com/games/68151_Elden_Ring.jpg\"/><link rel=\"canonical\" href=\"https://howlongtobeat.com/game/68151\"/><meta property=\"twitter:url\" content=\"https://howlongtobeat.com/game/68151\"/><meta property=\"og:url\" content=\"https://howlongtobeat.com/game/68151\"/><meta property=\"og:title\" content=\"How long is Elden Ring? | HowLongToBeat\"/><meta property=\"og:type\" content=\"website\"/><meta property=\"og:image\" content=\"https://howlongtobeat.com/games/68151_Elden_Ring.jpg\"/><meta property=\"og:description\" content=\"How long is Elden Ring? HowLongToBeat has the answer. Create a backlog, submit your game times and compete with your friends!\"/><meta name=\"twitter:card\" content=\"summary\"/><meta name=\"twitter:description\" content=\"How long is Elden Ring? HowLongToBeat has the answer. Create a backlog, submit your game times and compete with your friends!\"/><meta property=\"twitter:domain\" content=\"howlongtobeat.com\"/><meta name=\"twitter:site\" content=\"@HowLongToBeat\"/><meta name=\"twitter:image\" content=\"https://howlongtobeat.com/games/68151_Elden_Ring.jpg\"/><meta name=\"next-head-count\" content=\"19\"/><link rel=\"apple-touch-icon\" sizes=\"57x57\" href=\"https://howlongtobeat.com/img/icons/apple-touch-icon-57x57.png\"/><link rel=\"apple-touch-icon\" sizes=\"60x60\" href=\"https://howlongtobeat.com/img/icons/apple-touch-icon-60x60.png\"/><link rel=\"apple-touch-icon\" sizes=\"72x72\" href=\"https://howlongtobeat.com/img/icons/apple-touch-icon-72x72.png\"/><link rel=\"apple-touch-icon\" sizes=\"76x76\" href=\"https://howlongtobeat.com/img/icons/apple-touch-icon-76x76.png\"/><link rel=\"apple-touch-icon\" sizes=\"114x114\" href=\"https://howlongtobeat.com/img/icons/apple-touch-icon-114x114.png\"/><link rel=\"apple-touch-icon\" sizes=\"120x120\" href=\"https://howlongtobeat.com/img/icons/apple-touch-icon-120x120.png\"/><link rel=\"apple-touch-icon\" sizes=\"144x144\" href=\"https://howlongtobeat.com/img/icons/apple-touch-icon-144x144.png\"/><link rel=\"apple-touch-icon\" sizes=\"152x152\" href=\"https://howlongtobeat.com/img/icons/apple-touch-icon-152x152.png\"/><link rel=\"apple-touch-icon\" sizes=\"180x180\" href=\"https://howlongtobeat.com/img/icons/apple-touch-icon-180x180.png\"/><link rel=\"icon\" type=\"image/png\" href=\"https://howlongtobeat.com/img/icons/favicon-32x32.png\" sizes=\"32x32\"/><link rel=\"icon\" type=\"image/png\" href=\"https://howlongtobeat.com/img/icons/android-chrome-192x192.png\" sizes=\"192x192\"/><link rel=\"icon\" type=\"image/png\" href=\"https://howlongtobeat.com/img/icons/favicon-96x96.png\" sizes=\"96x96\"/><link rel=\"icon\" type=\"image/png\" href=\"https://howlongtobeat.com/img/icons/favicon-16x16.png\" sizes=\"16x16\"/><link rel=\"manifest\" href=\"/manifest.json\"/><link rel=\"preconnect\" href=\"https://howlongtobeat.com\"/><link rel=\"preload\" as=\"script\" href=\"https://cdn.ziffstatic.com/pg/howlongtobeat.js\"/><script type=\"text/javascript\" id=\"pogo\" src=\"https://cdn.ziffstatic.com/pg/howlongtobeat.js\" async=\"\"></script><link rel=\"stylesheet\" href=\"https://cdn.ziffstatic.com/pg/howlongtobeat.css\"/><link rel=\"preload\" as=\"script\" href=\"https://cdn.ziffstatic.com/pg/howlongtobeat.prebid.js\"/><script crossorigin=\"true\" src=\"https://cdn.ziffstatic.com/jst/zdconsent.js\" async=\"\"></script><link rel=\"preload\" href=\"/_next/static/css/d3471175fad83966.css\" as=\"style\"/><link rel=\"stylesheet\" href=\"/_next/static/css/d3471175fad83966.css\" data-n-g=\"\"/><link rel=\"preload\" href=\"/_next/static/css/71b0e6c3fcbeb170.css\" as=\"style\"/><link rel=\"stylesheet\" href=\"/_next/static/css/71b0e6c3fcbeb170.css\" data-n-p=\"\"/><noscript data-n-css=\"\"></noscript><script defer=\"\" nomodule=\"\" src=\"/_next/static/chunks/polyfills-c67a75d1b6f99dc8.js\"></script><script src=\"/_next/static/chunks/webpack-a5d74efcc1d083ed.js\" defer=\"\"></script><script src=\"/_next/static/chunks/framework-d51ece3d757c7ed2.js\" defer=\"\"></script><script src=\"/_next/static/chunks/main-8378baac0cf0cdc2.js\" defer=\"\"></script><script src=\"/_next/static/chunks/pages/_app-3b5155f6f5bdd87d.js\" defer=\"\"></script><script src=\"/_next/static/chunks/3fff1979-06f396b1d72a5562.js\" defer=\"\"></script><script src=\"/_next/static/chunks/5389-fb56be114fc3eca2.js\" defer=\"\"></script><script src=\"/_next/static/chunks/3600-3e6a5d4e419482c7.js\" defer=\"\"></script><script src=\"/_next/static/chunks/pages/game/%5BgameId%5D-930b48c736d8b9df.js\" defer=\"\"></script><script src=\"/_next/static/e4jSt07za-sgo89uxYFNB/_buildManifest.js\" defer=\"\"></script><script src=\"/_next/static/e4jSt07za-sgo89uxYFNB/_ssgManifest.js\" defer=\"\"></script></head><body><div id=\"__next\"><script>!function(){try{var d=document.documentElement,n=\\'data-theme\\',s=\\'setAttribute\\';var e=localStorage.getItem(\\'theme\\');if(\\'system\\'===e||(!e&&true)){var t=\\'(prefers-color-scheme: dark)\\',m=window.matchMedia(t);if(m.media!==t||m.matches){d.style.colorScheme = \\'dark\\';d[s](n,\\'dark\\')}else{d.style.colorScheme = \\'light\\';d[s](n,\\'light\\')}}else if(e){d[s](n,e|| \\'\\')}if(e===\\'light\\'||e===\\'dark\\')d.style.colorScheme=e}catch(e){}}()</script><div class=\"Layout_container__V2eEE\"><header class=\"MainNavigation_header__WuiTa\"><nav class=\"MainNavigation_nav__LkHHd\"><a class=\"MainNavigation_brand__8YjKY\" aria-label=\"HowLongToBeat\" href=\"/\"></a><ul class=\"MainNavigation_list__xBZrm\"><li><a href=\"/forum\">Forum</a></li><li><a href=\"/stats\">Stats</a></li><li><a href=\"/submit\">Submit</a></li></ul><ul class=\"MainNavigation_login__KE7zX\"><li><a class=\"text_primary\" href=\"/login\">Login</a></li><li class=\"MainNavigation_join_link__4bsgx\"><a class=\"mobile_hide text_primary\" href=\"/login/signup\">Join</a></li></ul><div class=\"MainNavigation_search__kw6St\"><input class=\"MainNavigation_search_box__jDUWW back_form\" aria-label=\"Search\" tabindex=\"2\" type=\"text\" placeholder=\"Search Your Favorite Games...\" autoComplete=\"off\"/></div></nav></header><div class=\"back_secondary center\"><div id=\"bobble_wide\" data-pogo=\"top\" class=\"ad-padding\"></div></div><main class=\"Layout_main__NgJgX\"><div class=\"contain_out\"><div class=\"contain_in\"><div class=\"content_25_static\"><div class=\"GameSideBar_game_bar__5ukPj\"><div class=\"GameSideBar_game_image__pMeFK mobile_hide\"><img alt=\"Elden Ring Box Art\" src=\"https://howlongtobeat.com/games/68151_Elden_Ring.jpg?width=250\"/></div><div class=\"in back_secondary shadow_box GameSideBar_mobile_shrink___WtqU\"><a class=\"text_orange center\" title=\"Submit Your Time\" href=\"/submit/game/68151\"><h4>Submit Your Time</h4></a></div><div class=\"mobile_clear\"></div></div></div><div class=\"content_75_static\"><div class=\"GameStats_game_times__5LFEc\"><ul><li class=\"GameStats_short__mnFjd time_100\"><h4>Main Story</h4><h5>54 Hours</h5></li><li class=\"GameStats_short__mnFjd time_100\"><h4>Main + Sides</h4><h5>98½ Hours</h5></li><li class=\"GameStats_short__mnFjd time_100\"><h4>Completionist</h4><h5>132 Hours</h5></li><li class=\"GameStats_short__mnFjd time_100\"><h4>All Styles</h4><h5>106 Hours</h5></li></ul><div class=\"guide\"><div class=\"guide_node time_40\"></div><div class=\"guide_node time_50\"></div><div class=\"guide_node time_60\"></div><div class=\"guide_node time_70\"></div><div class=\"guide_node time_80\"></div><div class=\"guide_node time_90\"></div><div class=\"guide_node time_100\"></div></div></div><div class=\"in back_primary shadow_box\"><div class=\"GameSummary_profile_info__e935c GameSummary_large__KEP5n\">The Golden Order has been broken. Rise, Tarnished, and be guided by grace to brandish the power of the Elden Ring and become an Elden Lord in the Lands Between. In the Lands Between ruled by Queen Marika the Eternal, the Elden Ring, the source of the Erdtree, has been shattered. Marika&#x27;s offspring, demigods all, claimed the shards of the Elden Ring<span><a id=\"profile_summary_more\" style=\"cursor:pointer\"> <!-- -->...Read More</a><span id=\"profile_summary_rest\" style=\"display:none\"> known as the Great Runes, and the mad taint of their newfound strength triggered a war: The Shattering. A war that meant abandonment by the Greater Will. And now the guidance of grace will be brought to the Tarnished who were spurned by the grace of gold and exiled from the Lands Between. Ye dead who yet live, your grace long lost, follow the path to the Lands Between beyond the foggy sea to stand before the Elden Ring. And become the Elden Lord.</span> </span></div><div class=\"GameSummary_profile_info__e935c GameSummary_large__KEP5n\">When focusing on the main objectives, <strong>Elden Ring</strong> is about<!-- --> <strong>54 Hours</strong> in length. If you&#x27;re a gamer that strives to see all aspects of the game, you are likely to spend around <strong>132 Hours</strong> to obtain 100% completion.</div><div class=\"GameSummary_profile_info__e935c GameSummary_medium__5cP8Y\"><strong>Platform<!-- -->s<!-- -->:</strong> <br/>PC, PlayStation 4, PlayStation 5, Xbox One, Xbox Series X/S</div><div class=\"GameSummary_profile_info__e935c GameSummary_medium__5cP8Y\"><strong>Genre<!-- -->s<!-- -->:</strong> <br/>Third-Person, Action, Open World, Role-Playing</div><div class=\"GameSummary_profile_info__e935c GameSummary_medium__5cP8Y\"><strong>Developer<!-- -->:</strong> <br/>FromSoftware</div><div class=\"GameSummary_profile_info__e935c GameSummary_medium__5cP8Y\"><strong>Publisher<!-- -->:</strong> <br/>Bandai Namco Entertainment</div><div class=\"GameSummary_profile_info__e935c\"><strong>NA:</strong> <br/>February 25, 2022</div><div class=\"GameSummary_profile_info__e935c\"><strong>EU:</strong> <br/>February 25, 2022</div><div class=\"GameSummary_profile_info__e935c\"><strong>JP:</strong> <br/>February 25, 2022</div><div class=\"GameSummary_profile_info__e935c\"><strong>Updated:</strong> <br/>2.5 Hours Ago</div><div class=\"GameSummary_profile_info__e935c\"><strong><a class=\"text_red\" href=\"https://store.steampowered.com/app/1245620/\" rel=\"noreferrer\" target=\"_blank\">Steam</a></strong></div></div><div class=\"GameHelp_game_help__3C2mq\"><section class=\"GameWikiNav_wiki_nav__4cEwO  back_primary shadow_box\"><a class=\"GameWikiNav_wiki_link__ihOsD\" href=\"https://www.ign.com/wikis/elden-ring\">Elden Ring<!-- --> Guide</a><h5 class=\"text_grey\">Powered by<!-- --> <a class=\"text_red\" href=\"https://www.ign.com/\" rel=\"noreferrer\" target=\"_blank\">IGN</a> Wiki Guides</h5><div class=\"GameWikiNav_guide_links__uVGds\"><ul class=\"GameWikiNav_left_column__j7exs  \"><li><a href=\"https://www.ign.com/wikis/elden-ring/Walkthrough\">Walkthrough</a></li><li><a href=\"https://www.ign.com/wikis/elden-ring/The_Best_Spirit_Ashes_In_Elden_Ring\">The Best Spirit Ashes In Elden Ring</a></li><li><a href=\"https://www.ign.com/wikis/elden-ring/Side_Quests_-_NPC_Character_Questlines\">Side Quests - NPC Character Questlines</a></li><li><a href=\"https://www.ign.com/wikis/elden-ring/Weapons\">Weapons</a></li><li><a href=\"https://www.ign.com/wikis/elden-ring/Boss_Guides\">Boss Guides</a></li><li><a href=\"https://www.ign.com/wikis/elden-ring/Classes\">Classes</a></li><li><a href=\"https://www.ign.com/wikis/elden-ring/Beginner%27s_Guide_-_Basics_and_Features\">Beginner&#x27;s Guide - Basics and Features</a></li><li><a href=\"https://www.ign.com/wikis/elden-ring/Things_You_Should_Know_in_Elden_Ring\">Things You Should Know in Elden Ring</a></li></ul><ul class=\"GameWikiNav_right_column__2X9SI  \"><li><a href=\"https://www.ign.com/wikis/elden-ring/Things_to_Do_First_in_Elden_Ring\">Things to Do First in Elden Ring</a></li><li><a href=\"https://www.ign.com/wikis/elden-ring/Things_Elden_Ring_Doesn%27t_Tell_You\">Things Elden Ring Doesn&#x27;t Tell You</a></li><li><a href=\"https://www.ign.com/wikis/elden-ring/Endings\">Endings</a></li><li><a href=\"https://www.ign.com/wikis/elden-ring/New_Game_Plus_Checklist\">New Game Plus Checklist</a></li><li><a href=\"https://www.ign.com/wikis/elden-ring/Dungeons\">Dungeons</a></li><li><a href=\"https://www.ign.com/wikis/elden-ring/Tips_and_Tricks\">Tips and Tricks</a></li><li><a href=\"https://www.ign.com/wikis/elden-ring/How-To_Guides\">How-To Guides</a></li><li><a href=\"https://www.ign.com/wikis/elden-ring/Crafting_Guide_-_Recipe_Cookbooks_and_Recipe_Lists\">Crafting Guide - Recipe Cookbooks and Recipe Lists</a></li></ul></div></section></div><div class=\"in scrollable scroll_blue shadow_box back_primary\"><table class=\"GameTimeTable_game_main_table__qh_pO\"><thead><tr><td style=\"min-width:125px\">Single-Player</td><td class=\"center\" style=\"min-width:50px\">Polled</td><td>Average</td><td>Median</td><td>Rushed</td><td>Leisure</td></tr></thead><tbody><tr class=\"spreadsheet\"><td>Main Story</td><td class=\"center time_100_text\">417</td><td>53h 17m</td><td>54h 45m</td><td>33h 29m</td><td>67h</td></tr><tr class=\"spreadsheet\"><td>Main + Extras</td><td class=\"center time_100_text\">2.2K</td><td>101h 53m</td><td>95h</td><td>63h 43m</td><td>193h 13m</td></tr><tr class=\"spreadsheet\"><td>Completionist</td><td class=\"center time_100_text\">1.5K</td><td>136h 33m</td><td>127h 41m</td><td>92h 57m</td><td>261h 35m</td></tr><tr class=\"spreadsheet\"><td>All PlayStyles</td><td class=\"center time_100_text\">4.1K</td><td>109h 50m</td><td>102h</td><td>59h 26m</td><td>248h 29m</td></tr></tbody></table><div class=\"mobile_show_block scrollable_hint\">Scroll for More ►</div></div><div class=\"in scrollable scroll_blue shadow_box back_primary\"><table class=\"GameTimeTable_game_main_table__qh_pO\"><thead><tr><td style=\"min-width:125px\">Speedruns</td><td class=\"center\" style=\"min-width:50px\">Polled</td><td>Average</td><td>Median</td><td>Fastest</td><td>Slowest</td></tr></thead><tbody><tr class=\"spreadsheet\"><td>Any%</td><td class=\"center time_40_text\">4</td><td>4h 23m 18s</td><td>3h 36m 54s</td><td>1h 49m 20s</td><td>8h 30m 5s</td></tr></tbody></table><div class=\"mobile_show_block scrollable_hint\">Scroll for More ►</div></div><div class=\"GameReviewRoundUp_featured__u3vuA\"><div class=\"GameReviewRoundUp_featured_one__uiUDv back_form shadow_box\"><div style=\"display:inline-block\"><canvas role=\"img\" height=\"100\" width=\"100\"></canvas><h5 style=\"margin-top:-67px;text-align:center\">93%<br/>Rating</h5></div></div><div class=\"GameReviewRoundUp_featured_two__gSruF back_form shadow_box\"><div style=\"display:inline-block\"><canvas role=\"img\" height=\"100\" width=\"100\"></canvas><h5 style=\"margin-top:-75px;text-align:center\">Low<br/>2.6<!-- -->%<br/>Retirement</h5></div></div></div><div class=\"in back_form shadow_box GameReviewRoundUp_review_spread__udsUQ\"><canvas role=\"img\" height=\"240\" width=\"300\"></canvas></div><div class=\"in scrollable scroll_blue shadow_box back_primary\"><table class=\"GameTimeTable_game_main_table__qh_pO\"><thead><tr><td style=\"min-width:125px\">Multi-Player</td><td class=\"center\" style=\"min-width:50px\">Polled</td><td>Average</td><td>Median</td><td>Least</td><td>Most</td></tr></thead><tbody><tr class=\"spreadsheet\"><td>Co-Op</td><td class=\"center time_60_text\">10</td><td>28½ Hours</td><td>17 Hours</td><td>11½ Hours</td><td>54½ Hours</td></tr><tr class=\"spreadsheet\"><td>Competitive</td><td class=\"center time_50_text\">7</td><td>23½ Hours</td><td>10 Hours</td><td>8½ Hours</td><td>43½ Hours</td></tr></tbody></table><div class=\"mobile_show_block scrollable_hint\">Scroll for More ►</div></div><div class=\"in back_primary shadow_box\"><div class=\"scroll_blue scrollable\"><table class=\"GamePlatformTable_game_main_table__Euxe3\"><thead><tr><td>Platform</td><td class=\"center\" style=\"width:50px\">Polled</td><td>Main</td><td>Main +</td><td>100%</td><td>Fastest</td><td>Slowest</td></tr></thead><tbody><tr class=\"spreadsheet\"><td>PC</td><td class=\"center time_100_text\">2.3K</td><td>51h 35m</td><td>99h 1m</td><td>136h 40m</td><td>12h 57m</td><td>365h</td></tr><tr class=\"spreadsheet\"><td>PlayStation 4</td><td class=\"center time_100_text\">279</td><td>54h 37m</td><td>109h 33m</td><td>136h 19m</td><td>14h 12m</td><td>307h 53m</td></tr><tr class=\"spreadsheet\"><td>PlayStation 5</td><td class=\"center time_100_text\">1.2K</td><td>56h 9m</td><td>103h 6m</td><td>134h 33m</td><td>17h 15m</td><td>388h</td></tr><tr class=\"spreadsheet\"><td>Xbox One</td><td class=\"center time_90_text\">28</td><td>52h 45m</td><td>123h 24m</td><td>126h 57m</td><td>41h 13m</td><td>231h 36m</td></tr><tr class=\"spreadsheet\"><td>Xbox Series X/S</td><td class=\"center time_100_text\">322</td><td>56h 9m</td><td>107h 12m</td><td>146h 44m</td><td>15h 34m</td><td>391h 4m</td></tr></tbody></table><div class=\"mobile_show_block scrollable_hint\">Scroll for More ►</div></div><div class=\"global_padding back_form\"><canvas role=\"img\" height=\"180\" width=\"300\"></canvas></div></div></div></div></div><div class=\"content_break\"></div><div class=\"clear\"></div></main><footer class=\"Footer_footer__2MMdT back_primary\"><div class=\"Footer_footer_inside__UfjFE\"><div class=\"Footer_footer_links__GA8Gc\"><h3>HowLongToBeat</h3><ul><li><a href=\"/feedback\">Contact Us</a></li><li><a href=\"/conduct\">Code of Conduct</a></li><li><a href=\"/privacy\">Privacy Policy</a></li></ul></div><div class=\"Footer_footer_links__GA8Gc\"><h3>Social</h3><ul><li><a href=\"https://discord.gg/v5F26Dk\" target=\"_blank\" rel=\"noreferrer\">Discord</a></li><li><a href=\"https://facebook.com/HowLongToBeat/\" target=\"_blank\" rel=\"noreferrer\">Facebook</a></li><li><a href=\"https://twitter.com/HowLongToBeat/\" target=\"_blank\" rel=\"noreferrer\">Twitter</a></li></ul></div><div class=\"Footer_footer_copyright__TDPg5\"><h3>© 2022 Ziff Davis, LLC</h3><ul><li>Powered By Community, Built With Love</li><li><a href=\"#\" class=\"showConsentTool\"><img alt=\"AdChoices Icon\" src=\"https://c.evidon.com/pub/icong1.png\" class=\"evidon-consent-link-image\" style=\"vertical-align:middle\" width=\"14\" height=\"18\"/> <!-- -->AdChoices</a></li><li></li></ul></div></div></footer></div></div><script id=\"__NEXT_DATA__\" type=\"application/json\">{\"props\":{\"pageProps\":{\"game\":{\"count\":2,\"data\":{\"game\":[{\"count_discussion\":2,\"game_id\":68151,\"game_name\":\"Elden Ring\",\"game_name_date\":0,\"count_playing\":574,\"count_backlog\":2442,\"count_replay\":152,\"count_custom\":11,\"count_comp\":5284,\"count_retired\":210,\"count_review\":1911,\"review_score\":93,\"game_alias\":\"\",\"game_image\":\"68151_Elden_Ring.jpg\",\"game_type\":\"game\",\"game_parent\":0,\"profile_summary\":\"The Golden Order has been broken. Rise, Tarnished, and be guided by grace to brandish the power of the Elden Ring and become an Elden Lord in the Lands Between. In the Lands Between ruled by Queen Marika the Eternal, the Elden Ring, the source of the Erdtree, has been shattered. Marika\\'s offspring, demigods all, claimed the shards of the Elden Ring known as the Great Runes, and the mad taint of their newfound strength triggered a war: The Shattering. A war that meant abandonment by the Greater Will. And now the guidance of grace will be brought to the Tarnished who were spurned by the grace of gold and exiled from the Lands Between. Ye dead who yet live, your grace long lost, follow the path to the Lands Between beyond the foggy sea to stand before the Elden Ring. And become the Elden Lord.\",\"profile_dev\":\"FromSoftware\",\"profile_pub\":\"Bandai Namco Entertainment\",\"profile_platform\":\"PC, PlayStation 4, PlayStation 5, Xbox One, Xbox Series X/S\",\"profile_genre\":\"Third-Person, Action, Open World, Role-Playing\",\"profile_steam\":1245620,\"profile_steam_alt\":0,\"profile_itch\":0,\"profile_ign\":\"27cb9877-2720-4d95-b79e-5cedd24e9c7e\",\"release_world\":\"2022-02-25\",\"release_na\":\"2022-02-25\",\"release_eu\":\"2022-02-25\",\"release_jp\":\"2022-02-25\",\"rating_esrb\":\"\",\"rating_pegi\":\"\",\"rating_cero\":\"\",\"comp_lvl_sp\":1,\"comp_lvl_spd\":1,\"comp_lvl_co\":1,\"comp_lvl_mp\":1,\"comp_lvl_combine\":0,\"comp_lvl_platform\":0,\"comp_all_count\":4125,\"comp_all\":381320,\"comp_all_l\":213972,\"comp_all_h\":894580,\"comp_all_avg\":395440,\"comp_all_med\":367200,\"comp_main_count\":417,\"comp_main\":194476,\"comp_main_l\":120549,\"comp_main_h\":241238,\"comp_main_avg\":191851,\"comp_main_med\":197100,\"comp_plus_count\":2177,\"comp_plus\":354406,\"comp_plus_l\":229403,\"comp_plus_h\":695603,\"comp_plus_avg\":366812,\"comp_plus_med\":342000,\"comp_100_count\":1531,\"comp_100\":475630,\"comp_100_l\":334676,\"comp_100_h\":941735,\"comp_100_avg\":491600,\"comp_100_med\":459660,\"comp_speed_count\":4,\"comp_speed\":14406,\"comp_speed_min\":6560,\"comp_speed_max\":30605,\"comp_speed_avg\":15798,\"comp_speed_med\":13014,\"comp_speed100_count\":0,\"comp_speed100\":0,\"comp_speed100_min\":0,\"comp_speed100_max\":0,\"comp_speed100_avg\":0,\"comp_speed100_med\":0,\"count_total\":10948,\"invested_co_count\":10,\"invested_co\":82650,\"invested_co_l\":41775,\"invested_co_h\":196125,\"invested_co_avg\":103200,\"invested_co_med\":62100,\"invested_mp_count\":7,\"invested_mp\":60064,\"invested_mp_l\":31382,\"invested_mp_h\":156032,\"invested_mp_avg\":84129,\"invested_mp_med\":36000,\"added_stats\":\"2022-11-02 14:10:07\"}],\"individuality\":[{\"platform\":\"PC, PlayStation 5, Xbox One\",\"count_comp\":\"3524\",\"comp_main\":\"192616\",\"comp_plus\":\"390635\",\"comp_100\":\"477818\",\"comp_all\":\"396203\",\"compare\":\"110.0000\"},{\"platform\":\"PlayStation 4, Xbox Series X/S\",\"count_comp\":\"601\",\"comp_main\":\"199430\",\"comp_plus\":\"390194\",\"comp_100\":\"509528\",\"comp_all\":\"413573\",\"compare\":\"115.0000\"}],\"relationships\":[],\"userReviews\":{\"review_count\":1882,\"score_10\":\"1\",\"score_20\":\"1\",\"score_30\":\"2\",\"score_40\":\"3\",\"score_50\":\"7\",\"score_60\":\"22\",\"score_70\":\"77\",\"score_80\":\"209\",\"score_90\":\"525\",\"score_100\":\"1096\"},\"platformData\":[{\"platform\":\"PC\",\"count_comp\":2293,\"count_total\":2906,\"comp_main\":185724,\"comp_plus\":356470,\"comp_100\":492010,\"comp_low\":46623,\"comp_high\":1314000},{\"platform\":\"PlayStation 4\",\"count_comp\":279,\"count_total\":335,\"comp_main\":196676,\"comp_plus\":394409,\"comp_100\":490761,\"comp_low\":51120,\"comp_high\":1108381},{\"platform\":\"PlayStation 5\",\"count_comp\":1203,\"count_total\":1497,\"comp_main\":202180,\"comp_plus\":371166,\"comp_100\":484384,\"comp_low\":62100,\"comp_high\":1396800},{\"platform\":\"Xbox One\",\"count_comp\":28,\"count_total\":43,\"comp_main\":189944,\"comp_plus\":444270,\"comp_100\":457059,\"comp_low\":148380,\"comp_high\":833767},{\"platform\":\"Xbox Series X/S\",\"count_comp\":322,\"count_total\":388,\"comp_main\":202183,\"comp_plus\":385978,\"comp_100\":528294,\"comp_low\":56040,\"comp_high\":1407840}]}},\"ignWikiSlug\":\"elden-ring\",\"ignMap\":{\"__typename\":\"Map\",\"mapName\":\"Lands Between\",\"mapSlug\":\"lands-between\",\"objectSlug\":\"elden-ring\",\"objectName\":\"Elden Ring\",\"width\":1,\"height\":1,\"maxZoom\":8,\"tilesets\":[\"https://oyster.ignimgs.com/ignmedia/wikimaps/elden-ring/lands-between-v2/{z}/{x}/{y}.png\"]},\"ignWikiNav\":[{\"__typename\":\"WikiNavigation\",\"label\":\"Elden Ring Wiki Guide\",\"url\":\"\"},{\"__typename\":\"WikiNavigation\",\"label\":\"Walkthrough\",\"url\":\"Walkthrough\"},{\"__typename\":\"WikiNavigation\",\"label\":\"The Best Spirit Ashes In Elden Ring\",\"url\":\"The_Best_Spirit_Ashes_In_Elden_Ring\"},{\"__typename\":\"WikiNavigation\",\"label\":\"Side Quests - NPC Character Questlines\",\"url\":\"Side_Quests_-_NPC_Character_Questlines\"},{\"__typename\":\"WikiNavigation\",\"label\":\"Weapons\",\"url\":\"Weapons\"},{\"__typename\":\"WikiNavigation\",\"label\":\"Boss Guides\",\"url\":\"Boss_Guides\"},{\"__typename\":\"WikiNavigation\",\"label\":\"Classes\",\"url\":\"Classes\"},{\"__typename\":\"WikiNavigation\",\"label\":\"Beginner\\'s Guide - Basics and Features\",\"url\":\"Beginner%27s_Guide_-_Basics_and_Features\"},{\"__typename\":\"WikiNavigation\",\"label\":\"Things You Should Know in Elden Ring\",\"url\":\"Things_You_Should_Know_in_Elden_Ring\"},{\"__typename\":\"WikiNavigation\",\"label\":\"Things to Do First in Elden Ring\",\"url\":\"Things_to_Do_First_in_Elden_Ring\"},{\"__typename\":\"WikiNavigation\",\"label\":\"Things Elden Ring Doesn\\'t Tell You\",\"url\":\"Things_Elden_Ring_Doesn%27t_Tell_You\"},{\"__typename\":\"WikiNavigation\",\"label\":\"Endings\",\"url\":\"Endings\"},{\"__typename\":\"WikiNavigation\",\"label\":\"New Game Plus Checklist\",\"url\":\"New_Game_Plus_Checklist\"},{\"__typename\":\"WikiNavigation\",\"label\":\"Dungeons\",\"url\":\"Dungeons\"},{\"__typename\":\"WikiNavigation\",\"label\":\"Tips and Tricks\",\"url\":\"Tips_and_Tricks\"},{\"__typename\":\"WikiNavigation\",\"label\":\"How-To Guides\",\"url\":\"How-To_Guides\"},{\"__typename\":\"WikiNavigation\",\"label\":\"Crafting Guide - Recipe Cookbooks and Recipe Lists\",\"url\":\"Crafting_Guide_-_Recipe_Cookbooks_and_Recipe_Lists\"},{\"__typename\":\"WikiNavigation\",\"label\":\"Weapon Skills - Ashes of War\",\"url\":\"Weapon_Skills_-_Ashes_of_War\"},{\"__typename\":\"WikiNavigation\",\"label\":\"List of Summonable Spirit Ashes\",\"url\":\"List_of_Summonable_Spirit_Ashes\"},{\"__typename\":\"WikiNavigation\",\"label\":\"Armor and Equipment\",\"url\":\"Armor_and_Equipment\"},{\"__typename\":\"WikiNavigation\",\"label\":\"Talismans\",\"url\":\"Talismans\"},{\"__typename\":\"WikiNavigation\",\"label\":\"Magic Spells - Sorceries and Incantations\",\"url\":\"Magic_Spells_-_Sorceries_and_Incantations\"},{\"__typename\":\"WikiNavigation\",\"label\":\"Item List\",\"url\":\"Item_List\"},{\"__typename\":\"WikiNavigation\",\"label\":\"Where to Get Smithing Stones\",\"url\":\"Where_to_Get_Smithing_Stones\"},{\"__typename\":\"WikiNavigation\",\"label\":\"Golden Seed Locations\",\"url\":\"Golden_Seed_Locations\"},{\"__typename\":\"WikiNavigation\",\"label\":\"Sacred Tear Locations\",\"url\":\"Sacred_Tear_Locations\"},{\"__typename\":\"WikiNavigation\",\"label\":\"Stonesword Key Locations\",\"url\":\"Stonesword_Key_Locations\"},{\"__typename\":\"WikiNavigation\",\"label\":\"Scarab Locations and Rewards\",\"url\":\"Scarab_Locations_and_Rewards\"},{\"__typename\":\"WikiNavigation\",\"label\":\"Painting Locations and Solutions\",\"url\":\"Painting_Locations_and_Solutions\"},{\"__typename\":\"WikiNavigation\",\"label\":\"Imp Statue Seal Locations\",\"url\":\"Imp_Statue_Seal_Locations\"},{\"__typename\":\"WikiNavigation\",\"label\":\"Teleporters and Traps Locations\",\"url\":\"Teleporters_and_Traps_Locations\"},{\"__typename\":\"WikiNavigation\",\"label\":\"Deathroot Locations and Rewards\",\"url\":\"Deathroot_Locations_and_Rewards\"},{\"__typename\":\"WikiNavigation\",\"label\":\"Sealed Tower Solutions - How to Unlock Magic Doors\",\"url\":\"Sealed_Tower_Solutions_-_How_to_Unlock_Magic_Doors\"},{\"__typename\":\"WikiNavigation\",\"label\":\"Where to Get Bell Bearings\",\"url\":\"Where_to_Get_Bell_Bearings\"},{\"__typename\":\"WikiNavigation\",\"label\":\"Illusory Walls Locations\",\"url\":\"Illusory_Walls_Locations\"},{\"__typename\":\"WikiNavigation\",\"label\":\"Map Fragment Locations Guide\",\"url\":\"Map_Fragment_Locations_Guide\"},{\"__typename\":\"WikiNavigation\",\"label\":\"Cheats and Secrets\",\"url\":\"Cheats_and_Secrets\"},{\"__typename\":\"WikiNavigation\",\"label\":\"Easter Eggs\",\"url\":\"Easter_Eggs\"},{\"__typename\":\"WikiNavigation\",\"label\":\"Achievements and Trophies\",\"url\":\"Achievements_and_Trophies\"},{\"__typename\":\"WikiNavigation\",\"label\":\"Controls\",\"url\":\"Controls\"},{\"__typename\":\"WikiNavigation\",\"label\":\"Updates and Patch Notes\",\"url\":\"Updates_and_Patch_Notes\"}],\"pageMetadata\":{\"title\":\"How long is Elden Ring? | HowLongToBeat\",\"image\":\"https://howlongtobeat.com/games/68151_Elden_Ring.jpg\",\"description\":\"How long is Elden Ring? HowLongToBeat has the answer. Create a backlog, submit your game times and compete with your friends!\",\"canonical\":\"/game/68151\",\"template\":\"game\"},\"_sentryTraceData\":\"ebd85f21a8c74a8ea641ae5421a1d8d7-b01d881d06847bfe-1\",\"_sentryBaggage\":\"sentry-environment=prd,sentry-release=hl2b%3Aa97eec6f5ec836f5afc63695835142f71074957b,sentry-transaction=%2Fgame%2F%5BgameId%5D,sentry-public_key=f11a0dad63db4e20a9d6bb5efb8e8569,sentry-trace_id=ebd85f21a8c74a8ea641ae5421a1d8d7,sentry-sample_rate=1\"},\"__N_SSP\":true},\"page\":\"/game/[gameId]\",\"query\":{\"gameId\":\"68151\"},\"buildId\":\"e4jSt07za-sgo89uxYFNB\",\"isFallback\":false,\"gssp\":true,\"scriptLoader\":[]}</script></body></html>'"
      ]
     },
     "execution_count": 8,
     "metadata": {},
     "output_type": "execute_result"
    }
   ],
   "source": [
    "req.text"
   ]
  },
  {
   "cell_type": "markdown",
   "id": "ed22d65d",
   "metadata": {},
   "source": [
    "## Limitations\n",
    "- Some portions of the page are dynamically generated using JS, these portions cannot be scraped which include the top buttons showing # of people playing and backlogs"
   ]
  }
 ],
 "metadata": {
  "kernelspec": {
   "display_name": "Python 3 (ipykernel)",
   "language": "python",
   "name": "python3"
  },
  "language_info": {
   "codemirror_mode": {
    "name": "ipython",
    "version": 3
   },
   "file_extension": ".py",
   "mimetype": "text/x-python",
   "name": "python",
   "nbconvert_exporter": "python",
   "pygments_lexer": "ipython3",
   "version": "3.9.12"
  }
 },
 "nbformat": 4,
 "nbformat_minor": 5
}
